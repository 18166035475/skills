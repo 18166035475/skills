{
 "cells": [
  {
   "cell_type": "code",
   "execution_count": 1,
   "metadata": {},
   "outputs": [],
   "source": [
    "import torch\n",
    "import torch.optim as optim\n",
    "from torch.nn import functional as F\n",
    "import torch.nn as nn\n",
    "import torchvision"
   ]
  },
  {
   "cell_type": "code",
   "execution_count": 2,
   "metadata": {},
   "outputs": [
    {
     "data": {
      "text/plain": [
       "tensor([[-0.0081,  0.0698,  0.1792,  ...,  0.1079,  0.0630, -0.1812],\n",
       "        [ 0.1557, -0.1281, -0.1360,  ...,  0.1373, -0.1511, -0.1252],\n",
       "        [ 0.1557, -0.1146,  0.0860,  ..., -0.0055,  0.1864,  0.0501],\n",
       "        ...,\n",
       "        [-0.2130, -0.1637,  0.0208,  ..., -0.1124,  0.1164, -0.1571],\n",
       "        [ 0.0456,  0.3765,  0.1294,  ...,  0.0869,  0.0239, -0.1952],\n",
       "        [-0.0639, -0.0547,  0.1445,  ..., -0.0347, -0.0347, -0.0056]],\n",
       "       requires_grad=True)"
      ]
     },
     "execution_count": 2,
     "metadata": {},
     "output_type": "execute_result"
    }
   ],
   "source": [
    "# [ch_out,ch_in]\n",
    "\n",
    "w1, b1 = torch.randn(200, 784, requires_grad=True),\\\n",
    "         torch.zeros(200, requires_grad=True)\n",
    "w2, b2 = torch.randn(200, 200, requires_grad=True),\\\n",
    "         torch.zeros(200, requires_grad=True)\n",
    "w3, b3 = torch.randn(10, 200, requires_grad=True),\\\n",
    "         torch.zeros(10, requires_grad=True)\n",
    "\n",
    "torch.nn.init.kaiming_normal_(w1)\n",
    "torch.nn.init.kaiming_normal_(w2)\n",
    "torch.nn.init.kaiming_normal_(w3)"
   ]
  },
  {
   "cell_type": "code",
   "execution_count": 3,
   "metadata": {},
   "outputs": [],
   "source": [
    "def forward(x):\n",
    "    x = x@w1.t() + b1\n",
    "    x = F.relu(x)\n",
    "    x = x@w2.t() + b2\n",
    "    x = F.relu(x)\n",
    "    x = x@w3.t() + b3\n",
    "    x = F.relu(x)     # logits\n",
    "    \n",
    "    return x"
   ]
  },
  {
   "cell_type": "code",
   "execution_count": 4,
   "metadata": {},
   "outputs": [],
   "source": [
    "learning_rate = 0.01\n",
    "epochs = 1\n",
    "batch_size = 64"
   ]
  },
  {
   "cell_type": "code",
   "execution_count": 5,
   "metadata": {},
   "outputs": [],
   "source": [
    "train_loader = torch.utils.data.DataLoader(torchvision.datasets.MNIST('datasets/mnist_data',\n",
    "                train=True,\n",
    "                download=True,\n",
    "                transform=torchvision.transforms.Compose([\n",
    "                torchvision.transforms.ToTensor(),                       # 数据类型转化\n",
    "                torchvision.transforms.Normalize((0.1307, ), (0.3081, )) # 数据归一化处理\n",
    "    ])), batch_size=batch_size,shuffle=True)\n",
    "\n",
    "test_loader = torch.utils.data.DataLoader(torchvision.datasets.MNIST('datasets/mnist_data/',\n",
    "                train=False,\n",
    "                download=True,\n",
    "                transform=torchvision.transforms.Compose([\n",
    "                torchvision.transforms.ToTensor(),\n",
    "                torchvision.transforms.Normalize((0.1307, ), (0.3081, ))\n",
    "    ])),batch_size=batch_size,shuffle=False)"
   ]
  },
  {
   "cell_type": "code",
   "execution_count": 6,
   "metadata": {},
   "outputs": [
    {
     "name": "stdout",
     "output_type": "stream",
     "text": [
      "Train Epoch: 0 [0/60000 (0%)]\tLoss: 3.031062\n",
      "Train Epoch: 0 [6400/60000 (11%)]\tLoss: 0.814657\n",
      "Train Epoch: 0 [12800/60000 (21%)]\tLoss: 0.586956\n",
      "Train Epoch: 0 [19200/60000 (32%)]\tLoss: 0.863106\n",
      "Train Epoch: 0 [25600/60000 (43%)]\tLoss: 0.699339\n",
      "Train Epoch: 0 [32000/60000 (53%)]\tLoss: 0.556181\n",
      "Train Epoch: 0 [38400/60000 (64%)]\tLoss: 0.614518\n",
      "Train Epoch: 0 [44800/60000 (75%)]\tLoss: 0.725399\n",
      "Train Epoch: 0 [51200/60000 (85%)]\tLoss: 0.261788\n",
      "Train Epoch: 0 [57600/60000 (96%)]\tLoss: 0.244436\n",
      "\n",
      "Test set: Average loss: 0.0041, Accuracy: 9231/10000 (92%)\n",
      "\n"
     ]
    }
   ],
   "source": [
    "optimizer = optim.SGD([w1,b1,w2,b2,w3,b3], lr = learning_rate)\n",
    "criteon = nn.CrossEntropyLoss()\n",
    "\n",
    "for epoch in range(epochs):\n",
    "    for batch_idx,(data,target) in enumerate(train_loader):\n",
    "        data = data.view(-1,28*28)\n",
    "        logits = forward(data)\n",
    "        loss = criteon(logits,target)\n",
    "        \n",
    "        optimizer.zero_grad()\n",
    "        loss.backward()\n",
    "        optimizer.step()\n",
    "        \n",
    "        if batch_idx % 100 == 0:\n",
    "            print('Train Epoch: {} [{}/{} ({:.0f}%)]\\tLoss: {:.6f}'.format(\n",
    "                epoch, batch_idx * len(data), len(train_loader.dataset),\n",
    "                       100. * batch_idx / len(train_loader), loss.item()))\n",
    "\n",
    "\n",
    "    test_loss = 0\n",
    "    correct = 0\n",
    "    for data, target in test_loader:\n",
    "        data = data.view(-1, 28 * 28)\n",
    "        logits = forward(data)\n",
    "        test_loss += criteon(logits, target).item()\n",
    "\n",
    "        pred = logits.data.max(1)[1]\n",
    "        correct += pred.eq(target.data).sum()\n",
    "\n",
    "    test_loss /= len(test_loader.dataset)\n",
    "    print('\\nTest set: Average loss: {:.4f}, Accuracy: {}/{} ({:.0f}%)\\n'.format(\n",
    "        test_loss, correct, len(test_loader.dataset),\n",
    "        100. * correct / len(test_loader.dataset)))"
   ]
  },
  {
   "cell_type": "code",
   "execution_count": null,
   "metadata": {},
   "outputs": [],
   "source": []
  },
  {
   "cell_type": "code",
   "execution_count": null,
   "metadata": {},
   "outputs": [],
   "source": []
  }
 ],
 "metadata": {
  "kernelspec": {
   "display_name": "Python 3",
   "language": "python",
   "name": "python3"
  },
  "language_info": {
   "codemirror_mode": {
    "name": "ipython",
    "version": 3
   },
   "file_extension": ".py",
   "mimetype": "text/x-python",
   "name": "python",
   "nbconvert_exporter": "python",
   "pygments_lexer": "ipython3",
   "version": "3.7.7"
  }
 },
 "nbformat": 4,
 "nbformat_minor": 4
}
