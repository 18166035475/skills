{
 "cells": [
  {
   "cell_type": "markdown",
   "metadata": {},
   "source": [
    "$1.01^{365} = 37.8$\n",
    "\n",
    "$0.99^{365} = 0.03$"
   ]
  },
  {
   "cell_type": "markdown",
   "metadata": {},
   "source": [
    "### $Gradient\\space Clipping$\n",
    "\n",
    "```python\n",
    "loss = criterion(output,y)\n",
    "model.zero_grad()\n",
    "loss.backward()\n",
    "for p in model.parameters():\n",
    "    print(p.grad.norm())\n",
    "    torch.nn.utils.clip_grad_norm_(p,10)\n",
    "optimizer.step()\n",
    "```"
   ]
  }
 ],
 "metadata": {
  "kernelspec": {
   "display_name": "Python 3",
   "language": "python",
   "name": "python3"
  },
  "language_info": {
   "codemirror_mode": {
    "name": "ipython",
    "version": 3
   },
   "file_extension": ".py",
   "mimetype": "text/x-python",
   "name": "python",
   "nbconvert_exporter": "python",
   "pygments_lexer": "ipython3",
   "version": "3.8.3"
  }
 },
 "nbformat": 4,
 "nbformat_minor": 4
}
