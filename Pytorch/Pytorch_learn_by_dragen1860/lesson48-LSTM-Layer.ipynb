{
 "cells": [
  {
   "cell_type": "code",
   "execution_count": 1,
   "metadata": {},
   "outputs": [],
   "source": [
    "import torch.nn as nn\n",
    "import torch"
   ]
  },
  {
   "cell_type": "markdown",
   "metadata": {},
   "source": [
    "### $nn.LSTM$"
   ]
  },
  {
   "cell_type": "code",
   "execution_count": 2,
   "metadata": {},
   "outputs": [
    {
     "name": "stdout",
     "output_type": "stream",
     "text": [
      "LSTM(100, 20, num_layers=4)\n"
     ]
    }
   ],
   "source": [
    "lstm = nn.LSTM(input_size = 100,hidden_size = 20,num_layers = 4)\n",
    "print(lstm)"
   ]
  },
  {
   "cell_type": "code",
   "execution_count": 3,
   "metadata": {},
   "outputs": [
    {
     "name": "stdout",
     "output_type": "stream",
     "text": [
      "torch.Size([10, 3, 20]) torch.Size([4, 3, 20]) torch.Size([4, 3, 20])\n"
     ]
    }
   ],
   "source": [
    "x = torch.randn(10,3,100)\n",
    "out,(h,c) = lstm(x)\n",
    "print(out.shape,h.shape,c.shape)"
   ]
  },
  {
   "cell_type": "markdown",
   "metadata": {},
   "source": [
    "### $Single\\space layer$"
   ]
  },
  {
   "cell_type": "code",
   "execution_count": 4,
   "metadata": {},
   "outputs": [
    {
     "name": "stdout",
     "output_type": "stream",
     "text": [
      "one layer lstm\n",
      "torch.Size([3, 20]) torch.Size([3, 20])\n"
     ]
    }
   ],
   "source": [
    "print('one layer lstm')\n",
    "cell = nn.LSTMCell(input_size = 100,hidden_size = 20)\n",
    "h = torch.zeros(3,20)\n",
    "c = torch.zeros(3,20)\n",
    "for xt in x:\n",
    "    h,c = cell(xt,[h,c])\n",
    "print(h.shape,c.shape)"
   ]
  },
  {
   "cell_type": "markdown",
   "metadata": {},
   "source": [
    "### $Two\\space layers$"
   ]
  },
  {
   "cell_type": "code",
   "execution_count": 5,
   "metadata": {},
   "outputs": [
    {
     "name": "stdout",
     "output_type": "stream",
     "text": [
      "two layer lstm\n",
      "torch.Size([3, 20]) torch.Size([3, 20])\n"
     ]
    }
   ],
   "source": [
    "print('two layer lstm')\n",
    "cell1 = nn.LSTMCell(input_size = 100,hidden_size = 30)\n",
    "cell2 = nn.LSTMCell(input_size = 30,hidden_size = 20)\n",
    "\n",
    "h1 = torch.zeros(3,30)\n",
    "c1 = torch.zeros(3,30)\n",
    "h2 = torch.zeros(3,20)\n",
    "c2 = torch.zeros(3,20)\n",
    "\n",
    "for xt in x:\n",
    "    h1,c1 = cell1(xt,[h1,c1])\n",
    "    h2,c2 = cell2(h1,[h2,c2])\n",
    "\n",
    "print(h.shape,c.shape)"
   ]
  }
 ],
 "metadata": {
  "kernelspec": {
   "display_name": "Python 3",
   "language": "python",
   "name": "python3"
  },
  "language_info": {
   "codemirror_mode": {
    "name": "ipython",
    "version": 3
   },
   "file_extension": ".py",
   "mimetype": "text/x-python",
   "name": "python",
   "nbconvert_exporter": "python",
   "pygments_lexer": "ipython3",
   "version": "3.8.3"
  }
 },
 "nbformat": 4,
 "nbformat_minor": 4
}
