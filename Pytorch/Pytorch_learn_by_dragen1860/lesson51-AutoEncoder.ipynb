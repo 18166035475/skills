{
 "cells": [
  {
   "cell_type": "code",
   "execution_count": 14,
   "metadata": {},
   "outputs": [],
   "source": [
    "import torch\n",
    "import torch.nn as nn\n",
    "from torch.utils.data import DataLoader\n",
    "from torchvision import transforms,datasets\n",
    "from torch import optim\n",
    "from visdom import Visdom"
   ]
  },
  {
   "cell_type": "code",
   "execution_count": 10,
   "metadata": {},
   "outputs": [],
   "source": [
    "mnist_train = datasets.MNIST('./datasets/mnist_data',True,transform = transforms.Compose([\n",
    "    transforms.ToTensor()\n",
    "]),download = True)\n",
    "mnist_train = DataLoader(mnist_train,batch_size = 32,shuffle = True)\n",
    "\n",
    "mnist_test = datasets.MNIST('./datasets/mnist_data/',False,transform = transforms.Compose([\n",
    "    transforms.ToTensor()\n",
    "]),download = True)\n",
    "mnist_train = DataLoader(mnist_train,batch_size = 32,shuffle = True)"
   ]
  },
  {
   "cell_type": "code",
   "execution_count": 12,
   "metadata": {},
   "outputs": [],
   "source": [
    "# AE\n",
    "class AE(nn.Module):\n",
    "\n",
    "    def __init__(self):\n",
    "        super(AE, self).__init__()\n",
    "\n",
    "        # [b, 784] => [b, 20]\n",
    "        self.encoder = nn.Sequential(\n",
    "            nn.Linear(784, 256),\n",
    "            nn.ReLU(),\n",
    "            nn.Linear(256, 64),\n",
    "            nn.ReLU(),\n",
    "            nn.Linear(64, 20),\n",
    "            nn.ReLU()\n",
    "        )\n",
    "        # [b, 20] => [b, 784]\n",
    "        self.decoder = nn.Sequential(\n",
    "            nn.Linear(20, 64),\n",
    "            nn.ReLU(),\n",
    "            nn.Linear(64, 256),\n",
    "            nn.ReLU(),\n",
    "            nn.Linear(256, 784),\n",
    "            nn.Sigmoid()\n",
    "        )\n",
    "\n",
    "    def forward(self, x):\n",
    "        \"\"\"\n",
    "        :param x: [b, 1, 28, 28]\n",
    "        :return:\n",
    "        \"\"\"\n",
    "        batch_size = x.size(0)\n",
    "        # flatten\n",
    "        x = x.view(batch_size, 784)\n",
    "        # encoder\n",
    "        x = self.encoder(x)\n",
    "        # decoder\n",
    "        x = self.decoder(x)\n",
    "        # reshape\n",
    "        x = x.view(batch_size, 1, 28, 28)\n",
    "\n",
    "        return x, None"
   ]
  },
  {
   "cell_type": "code",
   "execution_count": null,
   "metadata": {},
   "outputs": [],
   "source": [
    "# train\n",
    "device = torch.device('cuda')\n",
    "model = AE().to(device)\n",
    "criteon = nn.MSEloss()\n",
    "optimizer = optim.Adam(model.parameters(),lr = 1e-3)\n",
    "\n",
    "print(model)\n",
    "\n",
    "for epoch in range(1000):\n",
    "    for batch_idx,(x,_) in enumerate(mnist_train):\n",
    "        x = x.to(device)\n",
    "        x_hat = model(x)\n",
    "        loss = criteon(x_hat,x)\n",
    "        \n",
    "        optimizer.zero_grad()\n",
    "        loss.backward()\n",
    "        optimizer.step()"
   ]
  }
 ],
 "metadata": {
  "kernelspec": {
   "display_name": "Python 3",
   "language": "python",
   "name": "python3"
  },
  "language_info": {
   "codemirror_mode": {
    "name": "ipython",
    "version": 3
   },
   "file_extension": ".py",
   "mimetype": "text/x-python",
   "name": "python",
   "nbconvert_exporter": "python",
   "pygments_lexer": "ipython3",
   "version": "3.8.3"
  }
 },
 "nbformat": 4,
 "nbformat_minor": 4
}
