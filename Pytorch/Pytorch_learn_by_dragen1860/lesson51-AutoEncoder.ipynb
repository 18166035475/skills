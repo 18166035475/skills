{
 "cells": [
  {
   "cell_type": "code",
   "execution_count": 1,
   "metadata": {},
   "outputs": [],
   "source": [
    "import torch\n",
    "import torch.nn as nn\n",
    "from torch.utils.data import DataLoader\n",
    "from torchvision import transforms,datasets\n",
    "from torch import optim\n",
    "import visdom"
   ]
  },
  {
   "cell_type": "code",
   "execution_count": 2,
   "metadata": {},
   "outputs": [],
   "source": [
    "mnist_train = datasets.MNIST('./datasets/mnist_data',True,\n",
    "    transform = transforms.Compose([\n",
    "        transforms.ToTensor()\n",
    "]),download = True)\n",
    "mnist_train = DataLoader(mnist_train,batch_size = 32,shuffle = True)\n",
    "\n",
    "mnist_test = datasets.MNIST('./datasets/mnist_data/',False,\n",
    "    transform = transforms.Compose([\n",
    "        transforms.ToTensor()\n",
    "]),download = True)\n",
    "mnist_test = DataLoader(mnist_test,batch_size = 32,shuffle = True)"
   ]
  },
  {
   "cell_type": "code",
   "execution_count": 3,
   "metadata": {},
   "outputs": [],
   "source": [
    "# AE\n",
    "class AE(nn.Module):\n",
    "    def __init__(self):\n",
    "        super(AE, self).__init__()\n",
    "\n",
    "        # [b, 784] => [b, 20]\n",
    "        self.encoder = nn.Sequential(\n",
    "            nn.Linear(784, 256),\n",
    "            nn.ReLU(),\n",
    "            nn.Linear(256, 64),\n",
    "            nn.ReLU(),\n",
    "            nn.Linear(64, 20),\n",
    "            nn.ReLU()\n",
    "        )\n",
    "        # [b, 20] => [b, 784]\n",
    "        self.decoder = nn.Sequential(\n",
    "            nn.Linear(20, 64),\n",
    "            nn.ReLU(),\n",
    "            nn.Linear(64, 256),\n",
    "            nn.ReLU(),\n",
    "            nn.Linear(256, 784),\n",
    "            nn.Sigmoid()\n",
    "        )\n",
    "\n",
    "    def forward(self, x):\n",
    "        \"\"\"\n",
    "        :param x: [b, 1, 28, 28]\n",
    "        :return:\n",
    "        \"\"\"\n",
    "        batch_size = x.size(0)\n",
    "        # flatten\n",
    "        x = x.view(batch_size, 784)\n",
    "        # encoder\n",
    "        x = self.encoder(x)\n",
    "        # decoder\n",
    "        x = self.decoder(x)\n",
    "        # reshape\n",
    "        x = x.view(batch_size, 1, 28, 28)\n",
    "\n",
    "        return x, None"
   ]
  },
  {
   "cell_type": "code",
   "execution_count": 4,
   "metadata": {},
   "outputs": [
    {
     "name": "stderr",
     "output_type": "stream",
     "text": [
      "Setting up a new session...\n"
     ]
    },
    {
     "name": "stdout",
     "output_type": "stream",
     "text": [
      "AE(\n",
      "  (encoder): Sequential(\n",
      "    (0): Linear(in_features=784, out_features=256, bias=True)\n",
      "    (1): ReLU()\n",
      "    (2): Linear(in_features=256, out_features=64, bias=True)\n",
      "    (3): ReLU()\n",
      "    (4): Linear(in_features=64, out_features=20, bias=True)\n",
      "    (5): ReLU()\n",
      "  )\n",
      "  (decoder): Sequential(\n",
      "    (0): Linear(in_features=20, out_features=64, bias=True)\n",
      "    (1): ReLU()\n",
      "    (2): Linear(in_features=64, out_features=256, bias=True)\n",
      "    (3): ReLU()\n",
      "    (4): Linear(in_features=256, out_features=784, bias=True)\n",
      "    (5): Sigmoid()\n",
      "  )\n",
      ")\n",
      "epoch : 0,loss : 0.024158088490366936\n",
      "epoch : 1,loss : 0.01903233677148819\n",
      "epoch : 2,loss : 0.01598658785223961\n",
      "epoch : 3,loss : 0.014104633592069149\n",
      "epoch : 4,loss : 0.013381687924265862\n",
      "epoch : 5,loss : 0.014253390021622181\n",
      "epoch : 6,loss : 0.014098677784204483\n",
      "epoch : 7,loss : 0.012489549815654755\n",
      "epoch : 8,loss : 0.011682047508656979\n",
      "epoch : 9,loss : 0.011044216342270374\n",
      "Wall time: 1min 56s\n"
     ]
    }
   ],
   "source": [
    "%%time\n",
    "\n",
    "device = torch.device('cuda')\n",
    "model = AE().to(device)\n",
    "criteon = nn.MSELoss()\n",
    "optimizer = optim.Adam(model.parameters(),lr = 1e-3)\n",
    "\n",
    "viz = visdom.Visdom()\n",
    "\n",
    "print(model)\n",
    "\n",
    "for epoch in range(10):\n",
    "    for batch_idx,(x,_) in enumerate(mnist_train):\n",
    "        x = x.to(device)\n",
    "        x_hat,_ = model(x)\n",
    "        loss = criteon(x_hat,x)\n",
    "        \n",
    "        # backprop\n",
    "        optimizer.zero_grad()\n",
    "        loss.backward()\n",
    "        optimizer.step()\n",
    "        \n",
    "    print(f'epoch : {epoch},loss : {loss.item()}')\n",
    "    \n",
    "    x,_ = iter(mnist_test).next()\n",
    "    x = x.to(device)\n",
    "    with torch.no_grad(): \n",
    "        x_hat,_ = model(x)\n",
    "    viz.images(x,nrow = 8,win = 'x',opts = dict(title = 'x'))\n",
    "    viz.images(x_hat,nrow = 8,win = 'x_hat',opts = dict(title = 'x_hat'))"
   ]
  }
 ],
 "metadata": {
  "kernelspec": {
   "display_name": "Python 3",
   "language": "python",
   "name": "python3"
  },
  "language_info": {
   "codemirror_mode": {
    "name": "ipython",
    "version": 3
   },
   "file_extension": ".py",
   "mimetype": "text/x-python",
   "name": "python",
   "nbconvert_exporter": "python",
   "pygments_lexer": "ipython3",
   "version": "3.8.3"
  }
 },
 "nbformat": 4,
 "nbformat_minor": 4
}
