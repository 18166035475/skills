{
 "cells": [
  {
   "cell_type": "markdown",
   "metadata": {},
   "source": [
    "# $Having\\space Fun$\n",
    "\n",
    "- https://reiinakano.github.io/gan-playground/\n",
    "\n",
    "- https://affinelayer.com/pixsrv/\n",
    "\n",
    "- https://www.youtube.com/watch?v=9reHvktowLY&feature=youtu.be\n",
    "\n",
    "- https://github.com/ajbrock/Neural-Photo-Editor\n",
    "\n",
    "- https://github.com/nashory/gans-awesome-applications"
   ]
  },
  {
   "cell_type": "markdown",
   "metadata": {},
   "source": [
    "# 代码在对应文件中"
   ]
  }
 ],
 "metadata": {
  "kernelspec": {
   "display_name": "Python 3",
   "language": "python",
   "name": "python3"
  },
  "language_info": {
   "codemirror_mode": {
    "name": "ipython",
    "version": 3
   },
   "file_extension": ".py",
   "mimetype": "text/x-python",
   "name": "python",
   "nbconvert_exporter": "python",
   "pygments_lexer": "ipython3",
   "version": "3.8.3"
  }
 },
 "nbformat": 4,
 "nbformat_minor": 4
}
