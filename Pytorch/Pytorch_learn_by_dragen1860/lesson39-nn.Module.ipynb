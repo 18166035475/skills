{
 "cells": [
  {
   "cell_type": "markdown",
   "metadata": {},
   "source": [
    "###  $1.embed\\space current\\space layers$\n",
    "\n",
    "### $2.Cotainer$\n",
    "\n",
    "### $3.parameters$\n",
    "\n",
    "### $4.modules$\n",
    "\n",
    "### $5.to(device)$\n",
    "\n",
    "### $6.save\\space and\\space load$\n",
    "\n",
    "### $7.train/test$\n",
    "\n",
    "### $8.implement\\space own\\space layer$\n",
    "\n",
    "### $9.own\\space liner\\space layer$"
   ]
  }
 ],
 "metadata": {
  "kernelspec": {
   "display_name": "Python 3",
   "language": "python",
   "name": "python3"
  },
  "language_info": {
   "codemirror_mode": {
    "name": "ipython",
    "version": 3
   },
   "file_extension": ".py",
   "mimetype": "text/x-python",
   "name": "python",
   "nbconvert_exporter": "python",
   "pygments_lexer": "ipython3",
   "version": "3.8.3"
  }
 },
 "nbformat": 4,
 "nbformat_minor": 4
}
