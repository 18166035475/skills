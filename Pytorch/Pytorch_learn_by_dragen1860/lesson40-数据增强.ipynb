{
 "cells": [
  {
   "cell_type": "markdown",
   "metadata": {},
   "source": [
    "### $Limited\\space Data$\n",
    "\n",
    "- $Small\\space network\\space capacity$\n",
    "\n",
    "- $Regularization$\n",
    "\n",
    "- $Data\\space argumentation$\n",
    "\n",
    "### $Data\\space argumentation$\n",
    "\n",
    "- $Flip$\n",
    "\n",
    "```python\n",
    "# transform.RandomHorizontalFlip()\n",
    "# transform.RandomVerticalFlip()\n",
    "```\n",
    "\n",
    "- $Rotate$\n",
    "\n",
    "```python\n",
    "# transform.RandomRotation(15)\n",
    "# transform.RandomRotation([90,180,270])\n",
    "\n",
    "```\n",
    "\n",
    "- $Scale$\n",
    "```python\n",
    "# transform.Resize([32,32])\n",
    "```\n",
    "\n",
    "- $Random\\space Move\\space \\& \\space Crop$\n",
    "```python\n",
    "# transform.RandomCrop([28,28])\n",
    "```\n",
    "\n",
    "- $Noise$\n",
    "\n",
    "- $GAN$"
   ]
  }
 ],
 "metadata": {
  "kernelspec": {
   "display_name": "Python 3",
   "language": "python",
   "name": "python3"
  },
  "language_info": {
   "codemirror_mode": {
    "name": "ipython",
    "version": 3
   },
   "file_extension": ".py",
   "mimetype": "text/x-python",
   "name": "python",
   "nbconvert_exporter": "python",
   "pygments_lexer": "ipython3",
   "version": "3.8.3"
  }
 },
 "nbformat": 4,
 "nbformat_minor": 4
}
