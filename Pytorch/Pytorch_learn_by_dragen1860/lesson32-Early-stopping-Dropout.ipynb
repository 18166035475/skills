{
 "cells": [
  {
   "cell_type": "markdown",
   "metadata": {},
   "source": [
    "## $Tricks$\n",
    "\n",
    "- $Early\\space Stopping$\n",
    "\n",
    "- $Dropout$\n",
    "\n",
    "- $Stochastic\\space Gradient\\space Descent$"
   ]
  },
  {
   "cell_type": "markdown",
   "metadata": {},
   "source": [
    "$Early\\space Stopping$\n",
    "\n",
    "$How-To$\n",
    "\n",
    "- Validation set to select parameters\n",
    "\n",
    "- Monitor validation perforamce\n",
    "\n",
    "- Stop at the highest val perf\n",
    "\n",
    "$Dropout$\n",
    "\n",
    "- Learning less to learn better\n",
    "\n",
    "- Each connection has p = [0,1] to lose\n",
    "\n",
    "```python\n",
    "net_dropped = torch.nn.Sequential(\n",
    "    torch.nn.Linear(784,200),\n",
    "    torch.nn.Dropout(0.5),\n",
    "    torch.nn.ReLU(),\n",
    "    torch.nn.Linear(200,200),\n",
    "    torch.nn.Dropout(0.5),\n",
    "    torch.nn.ReLU(),\n",
    "    torch.nnLinear(200,10),\n",
    ")\n",
    "```\n",
    "\n",
    "$Behavior\\space betweenn\\space train\\space and\\space test$\n",
    "\n",
    "```python\n",
    "for epoch in range(epochs):\n",
    "    net_dropped.train()\n",
    "    for batch_idx,(data,target) in enumerate(train_loader):\n",
    "        ...\n",
    "        net_dropped.eval()\n",
    "        test_loss = 0\n",
    "        correct = 0\n",
    "        for data,target in test_loader:\n",
    "            ...\n",
    "```\n",
    "\n",
    "$Stochastic\\space Gradient\\space Descent$"
   ]
  }
 ],
 "metadata": {
  "kernelspec": {
   "display_name": "Python 3",
   "language": "python",
   "name": "python3"
  },
  "language_info": {
   "codemirror_mode": {
    "name": "ipython",
    "version": 3
   },
   "file_extension": ".py",
   "mimetype": "text/x-python",
   "name": "python",
   "nbconvert_exporter": "python",
   "pygments_lexer": "ipython3",
   "version": "3.8.3"
  }
 },
 "nbformat": 4,
 "nbformat_minor": 4
}
