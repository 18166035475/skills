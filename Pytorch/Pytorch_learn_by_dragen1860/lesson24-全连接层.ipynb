{
 "cells": [
  {
   "cell_type": "code",
   "execution_count": 1,
   "metadata": {},
   "outputs": [],
   "source": [
    "import torch\n",
    "import torch.nn as nn\n",
    "from torch.nn import functional as F\n",
    "import torch.optim as optim\n",
    "import torchvision"
   ]
  },
  {
   "cell_type": "markdown",
   "metadata": {},
   "source": [
    "$nn.Linear$"
   ]
  },
  {
   "cell_type": "code",
   "execution_count": 2,
   "metadata": {},
   "outputs": [],
   "source": [
    "x = torch.randn(1,784)"
   ]
  },
  {
   "cell_type": "code",
   "execution_count": 3,
   "metadata": {},
   "outputs": [],
   "source": [
    "layer1 = nn.Linear(784,200)\n",
    "layer2 = nn.Linear(200,200)\n",
    "layer3 = nn.Linear(200,10)"
   ]
  },
  {
   "cell_type": "code",
   "execution_count": 4,
   "metadata": {},
   "outputs": [
    {
     "data": {
      "text/plain": [
       "torch.Size([1, 200])"
      ]
     },
     "execution_count": 4,
     "metadata": {},
     "output_type": "execute_result"
    }
   ],
   "source": [
    "x = layer1(x)\n",
    "x.shape"
   ]
  },
  {
   "cell_type": "code",
   "execution_count": 5,
   "metadata": {},
   "outputs": [
    {
     "data": {
      "text/plain": [
       "torch.Size([1, 200])"
      ]
     },
     "execution_count": 5,
     "metadata": {},
     "output_type": "execute_result"
    }
   ],
   "source": [
    "x = layer2(x)\n",
    "x.shape"
   ]
  },
  {
   "cell_type": "code",
   "execution_count": 6,
   "metadata": {},
   "outputs": [
    {
     "data": {
      "text/plain": [
       "torch.Size([1, 10])"
      ]
     },
     "execution_count": 6,
     "metadata": {},
     "output_type": "execute_result"
    }
   ],
   "source": [
    "x = layer3(x)\n",
    "x.shape"
   ]
  },
  {
   "cell_type": "markdown",
   "metadata": {},
   "source": [
    "$relu?$ "
   ]
  },
  {
   "cell_type": "code",
   "execution_count": 7,
   "metadata": {},
   "outputs": [],
   "source": [
    "x = torch.randn(1,784)"
   ]
  },
  {
   "cell_type": "code",
   "execution_count": 8,
   "metadata": {},
   "outputs": [],
   "source": [
    "x = layer1(x)"
   ]
  },
  {
   "cell_type": "code",
   "execution_count": 9,
   "metadata": {},
   "outputs": [
    {
     "data": {
      "text/plain": [
       "torch.Size([1, 200])"
      ]
     },
     "execution_count": 9,
     "metadata": {},
     "output_type": "execute_result"
    }
   ],
   "source": [
    "x = F.relu(x,inplace = True)\n",
    "x.shape"
   ]
  },
  {
   "cell_type": "code",
   "execution_count": 10,
   "metadata": {},
   "outputs": [
    {
     "data": {
      "text/plain": [
       "torch.Size([1, 10])"
      ]
     },
     "execution_count": 10,
     "metadata": {},
     "output_type": "execute_result"
    }
   ],
   "source": [
    "x = layer3(x)\n",
    "X = F.relu(x,inplace = True)\n",
    "x.shape"
   ]
  },
  {
   "cell_type": "markdown",
   "metadata": {},
   "source": [
    "### $example$"
   ]
  },
  {
   "cell_type": "code",
   "execution_count": 11,
   "metadata": {},
   "outputs": [],
   "source": [
    "class MLP(nn.Module):\n",
    "    def __init__(self):\n",
    "        super(MLP,self).__init__()\n",
    "        \n",
    "        self.model = nn.Sequential(\n",
    "            nn.Linear(784,200),\n",
    "            nn.ReLU(inplace = True),\n",
    "            nn.Linear(200,200),\n",
    "            nn.ReLU(inplace = True),\n",
    "            nn.Linear(200,10),\n",
    "            nn.ReLU(inplace = True)\n",
    "        )\n",
    "        \n",
    "    def forward(self,x):\n",
    "        x = self.model(x)\n",
    "        \n",
    "        return x"
   ]
  },
  {
   "cell_type": "markdown",
   "metadata": {},
   "source": [
    "$Train$"
   ]
  },
  {
   "cell_type": "code",
   "execution_count": 12,
   "metadata": {},
   "outputs": [],
   "source": [
    "epochs = 3\n",
    "learning_rate = 1e-2\n",
    "batch_size = 64"
   ]
  },
  {
   "cell_type": "code",
   "execution_count": 13,
   "metadata": {},
   "outputs": [],
   "source": [
    "train_loader = torch.utils.data.DataLoader(torchvision.datasets.MNIST('datasets/mnist_data',\n",
    "                train=True,\n",
    "                download=True,\n",
    "                transform=torchvision.transforms.Compose([\n",
    "                torchvision.transforms.ToTensor(),                       # 数据类型转化\n",
    "                torchvision.transforms.Normalize((0.1307, ), (0.3081, )) # 数据归一化处理\n",
    "    ])), batch_size=batch_size,shuffle=True)\n",
    "\n",
    "test_loader = torch.utils.data.DataLoader(torchvision.datasets.MNIST('datasets/mnist_data/',\n",
    "                train=False,\n",
    "                download=True,\n",
    "                transform=torchvision.transforms.Compose([\n",
    "                torchvision.transforms.ToTensor(),\n",
    "                torchvision.transforms.Normalize((0.1307, ), (0.3081, ))\n",
    "    ])),batch_size=batch_size,shuffle=False)"
   ]
  },
  {
   "cell_type": "code",
   "execution_count": 14,
   "metadata": {},
   "outputs": [
    {
     "name": "stdout",
     "output_type": "stream",
     "text": [
      "Train Epoch: 0 [0/60000 (0%)]\tLoss: 2.311191\n",
      "Train Epoch: 0 [6400/60000 (11%)]\tLoss: 2.105377\n",
      "Train Epoch: 0 [12800/60000 (21%)]\tLoss: 1.340355\n",
      "Train Epoch: 0 [19200/60000 (32%)]\tLoss: 0.941758\n",
      "Train Epoch: 0 [25600/60000 (43%)]\tLoss: 0.578893\n",
      "Train Epoch: 0 [32000/60000 (53%)]\tLoss: 0.587863\n",
      "Train Epoch: 0 [38400/60000 (64%)]\tLoss: 0.312985\n",
      "Train Epoch: 0 [44800/60000 (75%)]\tLoss: 0.451108\n",
      "Train Epoch: 0 [51200/60000 (85%)]\tLoss: 0.258539\n",
      "Train Epoch: 0 [57600/60000 (96%)]\tLoss: 0.489289\n",
      "\n",
      "Test set: Average loss: 0.0053, Accuracy: 9020/10000 (90%)\n",
      "\n",
      "Train Epoch: 1 [0/60000 (0%)]\tLoss: 0.299722\n",
      "Train Epoch: 1 [6400/60000 (11%)]\tLoss: 0.331713\n",
      "Train Epoch: 1 [12800/60000 (21%)]\tLoss: 0.341233\n",
      "Train Epoch: 1 [19200/60000 (32%)]\tLoss: 0.355909\n",
      "Train Epoch: 1 [25600/60000 (43%)]\tLoss: 0.236620\n",
      "Train Epoch: 1 [32000/60000 (53%)]\tLoss: 0.322451\n",
      "Train Epoch: 1 [38400/60000 (64%)]\tLoss: 0.385833\n",
      "Train Epoch: 1 [44800/60000 (75%)]\tLoss: 0.192465\n",
      "Train Epoch: 1 [51200/60000 (85%)]\tLoss: 0.311206\n",
      "Train Epoch: 1 [57600/60000 (96%)]\tLoss: 0.144907\n",
      "\n",
      "Test set: Average loss: 0.0044, Accuracy: 9186/10000 (92%)\n",
      "\n",
      "Train Epoch: 2 [0/60000 (0%)]\tLoss: 0.341093\n",
      "Train Epoch: 2 [6400/60000 (11%)]\tLoss: 0.426963\n",
      "Train Epoch: 2 [12800/60000 (21%)]\tLoss: 0.259552\n",
      "Train Epoch: 2 [19200/60000 (32%)]\tLoss: 0.262989\n",
      "Train Epoch: 2 [25600/60000 (43%)]\tLoss: 0.202169\n",
      "Train Epoch: 2 [32000/60000 (53%)]\tLoss: 0.280175\n",
      "Train Epoch: 2 [38400/60000 (64%)]\tLoss: 0.137085\n",
      "Train Epoch: 2 [44800/60000 (75%)]\tLoss: 0.248642\n",
      "Train Epoch: 2 [51200/60000 (85%)]\tLoss: 0.291590\n",
      "Train Epoch: 2 [57600/60000 (96%)]\tLoss: 0.089360\n",
      "\n",
      "Test set: Average loss: 0.0036, Accuracy: 9339/10000 (93%)\n",
      "\n"
     ]
    }
   ],
   "source": [
    "net = MLP()\n",
    "optimizer = optim.SGD(net.parameters(),lr = learning_rate)\n",
    "criteon = nn.CrossEntropyLoss()\n",
    "\n",
    "for epoch in range(epochs):\n",
    "    for batch_idx,(data,target) in enumerate(train_loader):\n",
    "        data = data.view(-1,28*28)\n",
    "        logits = net(data)\n",
    "        loss= criteon(logits,target)\n",
    "        \n",
    "        optimizer.zero_grad()\n",
    "        loss.backward()\n",
    "        optimizer.step()\n",
    "\n",
    "        if batch_idx % 100 == 0:\n",
    "            print('Train Epoch: {} [{}/{} ({:.0f}%)]\\tLoss: {:.6f}'.format(\n",
    "                epoch, batch_idx * len(data), len(train_loader.dataset),\n",
    "                       100. * batch_idx / len(train_loader), loss.item()))\n",
    "\n",
    "\n",
    "    test_loss = 0\n",
    "    correct = 0\n",
    "    for data, target in test_loader:\n",
    "        data = data.view(-1, 28 * 28)\n",
    "        logits = net(data)\n",
    "        test_loss += criteon(logits, target).item()\n",
    "\n",
    "        pred = logits.data.max(1)[1]\n",
    "        correct += pred.eq(target.data).sum()\n",
    "\n",
    "    test_loss /= len(test_loader.dataset)\n",
    "    print('\\nTest set: Average loss: {:.4f}, Accuracy: {}/{} ({:.0f}%)\\n'.format(\n",
    "        test_loss, correct, len(test_loader.dataset),\n",
    "        100. * correct / len(test_loader.dataset)))"
   ]
  },
  {
   "cell_type": "code",
   "execution_count": null,
   "metadata": {},
   "outputs": [],
   "source": []
  },
  {
   "cell_type": "code",
   "execution_count": null,
   "metadata": {},
   "outputs": [],
   "source": []
  }
 ],
 "metadata": {
  "kernelspec": {
   "display_name": "Python 3",
   "language": "python",
   "name": "python3"
  },
  "language_info": {
   "codemirror_mode": {
    "name": "ipython",
    "version": 3
   },
   "file_extension": ".py",
   "mimetype": "text/x-python",
   "name": "python",
   "nbconvert_exporter": "python",
   "pygments_lexer": "ipython3",
   "version": "3.7.7"
  }
 },
 "nbformat": 4,
 "nbformat_minor": 4
}
