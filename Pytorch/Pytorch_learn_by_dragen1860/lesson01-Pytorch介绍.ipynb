{
 "cells": [
  {
   "cell_type": "markdown",
   "metadata": {},
   "source": [
    "$autograd\\space demo$"
   ]
  },
  {
   "cell_type": "code",
   "execution_count": 1,
   "metadata": {},
   "outputs": [],
   "source": [
    "import torch\n",
    "from torch import autograd\n",
    "import time"
   ]
  },
  {
   "cell_type": "code",
   "execution_count": 2,
   "metadata": {},
   "outputs": [],
   "source": [
    "x = torch.tensor(1.)\n",
    "a = torch.tensor(1.,requires_grad = True)\n",
    "b = torch.tensor(2.,requires_grad = True)\n",
    "c = torch.tensor(3.,requires_grad = True)"
   ]
  },
  {
   "cell_type": "code",
   "execution_count": 3,
   "metadata": {},
   "outputs": [],
   "source": [
    "y = a**2*x + b * x + c"
   ]
  },
  {
   "cell_type": "code",
   "execution_count": 4,
   "metadata": {},
   "outputs": [
    {
     "name": "stdout",
     "output_type": "stream",
     "text": [
      "before: None None None\n",
      "after: tensor(2.) tensor(1.) tensor(1.)\n"
     ]
    }
   ],
   "source": [
    "print('before:',a.grad,b.grad,c.grad)\n",
    "grads = autograd.grad(y,[a,b,c])\n",
    "print('after:',grads[0],grads[1],grads[2])"
   ]
  },
  {
   "cell_type": "markdown",
   "metadata": {},
   "source": [
    "$gpu\\space accelerate$"
   ]
  },
  {
   "cell_type": "code",
   "execution_count": 5,
   "metadata": {},
   "outputs": [
    {
     "name": "stdout",
     "output_type": "stream",
     "text": [
      "1.6.0\n",
      "True\n",
      "cpu 0.2005445957183838 tensor(141028.5938)\n",
      "cuda:0 0.2247469425201416 tensor(141432.2500, device='cuda:0')\n",
      "cuda:0 0.003973960876464844 tensor(141432.2500, device='cuda:0')\n"
     ]
    }
   ],
   "source": [
    "print(torch.__version__)\n",
    "print(torch.cuda.is_available())\n",
    "\n",
    "a = torch.randn(10000, 1000)\n",
    "b = torch.randn(1000, 2000)\n",
    "\n",
    "t0 = time.time()\n",
    "c = torch.matmul(a, b)\n",
    "t1 = time.time()\n",
    "print(a.device, t1 - t0, c.norm(2))\n",
    "\n",
    "device = torch.device('cuda')\n",
    "a = a.to(device)\n",
    "b = b.to(device)\n",
    "\n",
    "t0 = time.time()\n",
    "c = torch.matmul(a, b)\n",
    "t2 = time.time()\n",
    "print(a.device, t2 - t0, c.norm(2))\n",
    "\n",
    "t0 = time.time()\n",
    "c = torch.matmul(a, b)\n",
    "t2 = time.time()\n",
    "print(a.device, t2 - t0, c.norm(2))"
   ]
  }
 ],
 "metadata": {
  "kernelspec": {
   "display_name": "Python 3",
   "language": "python",
   "name": "python3"
  },
  "language_info": {
   "codemirror_mode": {
    "name": "ipython",
    "version": 3
   },
   "file_extension": ".py",
   "mimetype": "text/x-python",
   "name": "python",
   "nbconvert_exporter": "python",
   "pygments_lexer": "ipython3",
   "version": "3.8.3"
  }
 },
 "nbformat": 4,
 "nbformat_minor": 4
}
