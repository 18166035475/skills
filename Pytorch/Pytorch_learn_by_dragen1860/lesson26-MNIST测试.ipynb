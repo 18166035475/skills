{
 "cells": [
  {
   "cell_type": "code",
   "execution_count": 1,
   "metadata": {},
   "outputs": [],
   "source": [
    "import torch\n",
    "from torch.nn import functional as F\n",
    "import torch.nn as nn\n",
    "import torchvision\n",
    "from torchvision import datasets,transforms\n",
    "import torch.optim as optim"
   ]
  },
  {
   "cell_type": "markdown",
   "metadata": {},
   "source": [
    "$example$"
   ]
  },
  {
   "cell_type": "code",
   "execution_count": 2,
   "metadata": {},
   "outputs": [],
   "source": [
    "logits = torch.rand(4,10)"
   ]
  },
  {
   "cell_type": "code",
   "execution_count": 3,
   "metadata": {},
   "outputs": [],
   "source": [
    "pred = F.softmax(logits,dim = 1)"
   ]
  },
  {
   "cell_type": "code",
   "execution_count": 4,
   "metadata": {},
   "outputs": [
    {
     "data": {
      "text/plain": [
       "torch.Size([4, 10])"
      ]
     },
     "execution_count": 4,
     "metadata": {},
     "output_type": "execute_result"
    }
   ],
   "source": [
    "pred.shape"
   ]
  },
  {
   "cell_type": "code",
   "execution_count": 5,
   "metadata": {},
   "outputs": [],
   "source": [
    "pred_label = pred.argmax(dim = 1)"
   ]
  },
  {
   "cell_type": "code",
   "execution_count": 6,
   "metadata": {},
   "outputs": [
    {
     "data": {
      "text/plain": [
       "tensor([5, 5, 3, 5])"
      ]
     },
     "execution_count": 6,
     "metadata": {},
     "output_type": "execute_result"
    }
   ],
   "source": [
    "pred_label"
   ]
  },
  {
   "cell_type": "code",
   "execution_count": 7,
   "metadata": {},
   "outputs": [
    {
     "data": {
      "text/plain": [
       "tensor([5, 5, 3, 5])"
      ]
     },
     "execution_count": 7,
     "metadata": {},
     "output_type": "execute_result"
    }
   ],
   "source": [
    "logits.argmax(dim = 1)"
   ]
  },
  {
   "cell_type": "code",
   "execution_count": 8,
   "metadata": {},
   "outputs": [],
   "source": [
    "label = torch.tensor([5,4,3,9])\n",
    "correct = torch.eq(pred_label,label)"
   ]
  },
  {
   "cell_type": "code",
   "execution_count": 9,
   "metadata": {},
   "outputs": [
    {
     "data": {
      "text/plain": [
       "tensor([ True, False,  True, False])"
      ]
     },
     "execution_count": 9,
     "metadata": {},
     "output_type": "execute_result"
    }
   ],
   "source": [
    "correct"
   ]
  },
  {
   "cell_type": "code",
   "execution_count": 10,
   "metadata": {},
   "outputs": [
    {
     "data": {
      "text/plain": [
       "tensor(0.5000)"
      ]
     },
     "execution_count": 10,
     "metadata": {},
     "output_type": "execute_result"
    }
   ],
   "source": [
    "correct.sum().float().sum()/4"
   ]
  },
  {
   "cell_type": "markdown",
   "metadata": {},
   "source": [
    "### $When\\space to\\space test$\n",
    "\n",
    "- $test\\space once\\space per \\space several \\space batch$\n",
    "\n",
    "- $test\\space once\\space per \\space epoch$\n",
    "\n",
    "- $epoch\\space V.S.\\space step$"
   ]
  },
  {
   "cell_type": "code",
   "execution_count": 11,
   "metadata": {},
   "outputs": [],
   "source": [
    "learning_rate = 1e-2\n",
    "batch_size = 64\n",
    "epochs = 10"
   ]
  },
  {
   "cell_type": "code",
   "execution_count": 12,
   "metadata": {},
   "outputs": [],
   "source": [
    "train_loader = torch.utils.data.DataLoader(torchvision.datasets.MNIST('datasets/mnist_data',\n",
    "                train=True,\n",
    "                download=True,\n",
    "                transform=torchvision.transforms.Compose([\n",
    "                torchvision.transforms.ToTensor(),                       # 数据类型转化\n",
    "                torchvision.transforms.Normalize((0.1307, ), (0.3081, )) # 数据归一化处理\n",
    "    ])), batch_size=batch_size,shuffle=True)\n",
    "\n",
    "test_loader = torch.utils.data.DataLoader(torchvision.datasets.MNIST('datasets/mnist_data/',\n",
    "                train=False,\n",
    "                download=True,\n",
    "                transform=torchvision.transforms.Compose([\n",
    "                torchvision.transforms.ToTensor(),\n",
    "                torchvision.transforms.Normalize((0.1307, ), (0.3081, ))\n",
    "    ])),batch_size=batch_size,shuffle=False)"
   ]
  },
  {
   "cell_type": "code",
   "execution_count": 13,
   "metadata": {},
   "outputs": [],
   "source": [
    "class MLP(nn.Module):\n",
    "    def __init__(self):\n",
    "        super(MLP,self).__init__()\n",
    "        self.model = nn.Sequential(\n",
    "            nn.Linear(784,200),\n",
    "            nn.LeakyReLU(inplace = True),\n",
    "            nn.Linear(200,200),\n",
    "            nn.LeakyReLU(inplace = True),\n",
    "            nn.Linear(200,10),\n",
    "            nn.LeakyReLU(inplace = True)\n",
    "        )\n",
    "        \n",
    "    def forward(self,x):\n",
    "        x = self.model(x)\n",
    "        \n",
    "        return x"
   ]
  },
  {
   "cell_type": "code",
   "execution_count": 14,
   "metadata": {},
   "outputs": [],
   "source": [
    "device = torch.device('cuda:0')\n",
    "net = MLP().to(device)\n",
    "optimizer = optim.SGD(net.parameters(),lr = learning_rate)\n",
    "criteon = nn.CrossEntropyLoss().to(device)"
   ]
  },
  {
   "cell_type": "code",
   "execution_count": 15,
   "metadata": {},
   "outputs": [
    {
     "name": "stdout",
     "output_type": "stream",
     "text": [
      "Train Epoch: 0 [0/60000 (0%)]\tLoss: 2.300152\n",
      "Train Epoch: 0 [6400/60000 (11%)]\tLoss: 2.038405\n",
      "Train Epoch: 0 [12800/60000 (21%)]\tLoss: 1.609878\n",
      "Train Epoch: 0 [19200/60000 (32%)]\tLoss: 0.948645\n",
      "Train Epoch: 0 [25600/60000 (43%)]\tLoss: 0.578279\n",
      "Train Epoch: 0 [32000/60000 (53%)]\tLoss: 0.397320\n",
      "Train Epoch: 0 [38400/60000 (64%)]\tLoss: 0.392897\n",
      "Train Epoch: 0 [44800/60000 (75%)]\tLoss: 0.433338\n",
      "Train Epoch: 0 [51200/60000 (85%)]\tLoss: 0.350583\n",
      "Train Epoch: 0 [57600/60000 (96%)]\tLoss: 0.291713\n",
      "\n",
      "Test set: Average loss: 0.0053, Accuracy: 9023/10000 (90%)\n",
      "\n",
      "Train Epoch: 1 [0/60000 (0%)]\tLoss: 0.703412\n",
      "Train Epoch: 1 [6400/60000 (11%)]\tLoss: 0.318359\n",
      "Train Epoch: 1 [12800/60000 (21%)]\tLoss: 0.486072\n",
      "Train Epoch: 1 [19200/60000 (32%)]\tLoss: 0.137833\n",
      "Train Epoch: 1 [25600/60000 (43%)]\tLoss: 0.274568\n",
      "Train Epoch: 1 [32000/60000 (53%)]\tLoss: 0.239691\n",
      "Train Epoch: 1 [38400/60000 (64%)]\tLoss: 0.116818\n",
      "Train Epoch: 1 [44800/60000 (75%)]\tLoss: 0.272905\n",
      "Train Epoch: 1 [51200/60000 (85%)]\tLoss: 0.426216\n",
      "Train Epoch: 1 [57600/60000 (96%)]\tLoss: 0.215246\n",
      "\n",
      "Test set: Average loss: 0.0042, Accuracy: 9227/10000 (92%)\n",
      "\n",
      "Train Epoch: 2 [0/60000 (0%)]\tLoss: 0.249353\n",
      "Train Epoch: 2 [6400/60000 (11%)]\tLoss: 0.342516\n",
      "Train Epoch: 2 [12800/60000 (21%)]\tLoss: 0.231688\n",
      "Train Epoch: 2 [19200/60000 (32%)]\tLoss: 0.228385\n",
      "Train Epoch: 2 [25600/60000 (43%)]\tLoss: 0.382804\n",
      "Train Epoch: 2 [32000/60000 (53%)]\tLoss: 0.241884\n",
      "Train Epoch: 2 [38400/60000 (64%)]\tLoss: 0.328965\n",
      "Train Epoch: 2 [44800/60000 (75%)]\tLoss: 0.424770\n",
      "Train Epoch: 2 [51200/60000 (85%)]\tLoss: 0.192176\n",
      "Train Epoch: 2 [57600/60000 (96%)]\tLoss: 0.240225\n",
      "\n",
      "Test set: Average loss: 0.0035, Accuracy: 9340/10000 (93%)\n",
      "\n",
      "Train Epoch: 3 [0/60000 (0%)]\tLoss: 0.168543\n",
      "Train Epoch: 3 [6400/60000 (11%)]\tLoss: 0.138281\n",
      "Train Epoch: 3 [12800/60000 (21%)]\tLoss: 0.225404\n",
      "Train Epoch: 3 [19200/60000 (32%)]\tLoss: 0.196003\n",
      "Train Epoch: 3 [25600/60000 (43%)]\tLoss: 0.136805\n",
      "Train Epoch: 3 [32000/60000 (53%)]\tLoss: 0.177502\n",
      "Train Epoch: 3 [38400/60000 (64%)]\tLoss: 0.165787\n",
      "Train Epoch: 3 [44800/60000 (75%)]\tLoss: 0.284744\n",
      "Train Epoch: 3 [51200/60000 (85%)]\tLoss: 0.390907\n",
      "Train Epoch: 3 [57600/60000 (96%)]\tLoss: 0.112719\n",
      "\n",
      "Test set: Average loss: 0.0031, Accuracy: 9439/10000 (94%)\n",
      "\n",
      "Train Epoch: 4 [0/60000 (0%)]\tLoss: 0.139532\n",
      "Train Epoch: 4 [6400/60000 (11%)]\tLoss: 0.298731\n",
      "Train Epoch: 4 [12800/60000 (21%)]\tLoss: 0.110322\n",
      "Train Epoch: 4 [19200/60000 (32%)]\tLoss: 0.119809\n",
      "Train Epoch: 4 [25600/60000 (43%)]\tLoss: 0.125249\n",
      "Train Epoch: 4 [32000/60000 (53%)]\tLoss: 0.174001\n",
      "Train Epoch: 4 [38400/60000 (64%)]\tLoss: 0.038287\n",
      "Train Epoch: 4 [44800/60000 (75%)]\tLoss: 0.111496\n",
      "Train Epoch: 4 [51200/60000 (85%)]\tLoss: 0.134387\n",
      "Train Epoch: 4 [57600/60000 (96%)]\tLoss: 0.178759\n",
      "\n",
      "Test set: Average loss: 0.0027, Accuracy: 9492/10000 (95%)\n",
      "\n",
      "Train Epoch: 5 [0/60000 (0%)]\tLoss: 0.113821\n",
      "Train Epoch: 5 [6400/60000 (11%)]\tLoss: 0.136146\n",
      "Train Epoch: 5 [12800/60000 (21%)]\tLoss: 0.033945\n",
      "Train Epoch: 5 [19200/60000 (32%)]\tLoss: 0.097313\n",
      "Train Epoch: 5 [25600/60000 (43%)]\tLoss: 0.062843\n",
      "Train Epoch: 5 [32000/60000 (53%)]\tLoss: 0.122673\n",
      "Train Epoch: 5 [38400/60000 (64%)]\tLoss: 0.059865\n",
      "Train Epoch: 5 [44800/60000 (75%)]\tLoss: 0.112130\n",
      "Train Epoch: 5 [51200/60000 (85%)]\tLoss: 0.133213\n",
      "Train Epoch: 5 [57600/60000 (96%)]\tLoss: 0.133377\n",
      "\n",
      "Test set: Average loss: 0.0024, Accuracy: 9564/10000 (96%)\n",
      "\n",
      "Train Epoch: 6 [0/60000 (0%)]\tLoss: 0.127497\n",
      "Train Epoch: 6 [6400/60000 (11%)]\tLoss: 0.283596\n",
      "Train Epoch: 6 [12800/60000 (21%)]\tLoss: 0.062036\n",
      "Train Epoch: 6 [19200/60000 (32%)]\tLoss: 0.085099\n",
      "Train Epoch: 6 [25600/60000 (43%)]\tLoss: 0.219212\n",
      "Train Epoch: 6 [32000/60000 (53%)]\tLoss: 0.032534\n",
      "Train Epoch: 6 [38400/60000 (64%)]\tLoss: 0.162779\n",
      "Train Epoch: 6 [44800/60000 (75%)]\tLoss: 0.154150\n",
      "Train Epoch: 6 [51200/60000 (85%)]\tLoss: 0.067300\n",
      "Train Epoch: 6 [57600/60000 (96%)]\tLoss: 0.134673\n",
      "\n",
      "Test set: Average loss: 0.0022, Accuracy: 9598/10000 (96%)\n",
      "\n",
      "Train Epoch: 7 [0/60000 (0%)]\tLoss: 0.094571\n",
      "Train Epoch: 7 [6400/60000 (11%)]\tLoss: 0.160696\n",
      "Train Epoch: 7 [12800/60000 (21%)]\tLoss: 0.128893\n",
      "Train Epoch: 7 [19200/60000 (32%)]\tLoss: 0.108202\n",
      "Train Epoch: 7 [25600/60000 (43%)]\tLoss: 0.110324\n",
      "Train Epoch: 7 [32000/60000 (53%)]\tLoss: 0.236505\n",
      "Train Epoch: 7 [38400/60000 (64%)]\tLoss: 0.070434\n",
      "Train Epoch: 7 [44800/60000 (75%)]\tLoss: 0.147588\n",
      "Train Epoch: 7 [51200/60000 (85%)]\tLoss: 0.097190\n",
      "Train Epoch: 7 [57600/60000 (96%)]\tLoss: 0.146486\n",
      "\n",
      "Test set: Average loss: 0.0020, Accuracy: 9617/10000 (96%)\n",
      "\n",
      "Train Epoch: 8 [0/60000 (0%)]\tLoss: 0.072069\n",
      "Train Epoch: 8 [6400/60000 (11%)]\tLoss: 0.229251\n",
      "Train Epoch: 8 [12800/60000 (21%)]\tLoss: 0.148592\n",
      "Train Epoch: 8 [19200/60000 (32%)]\tLoss: 0.097197\n",
      "Train Epoch: 8 [25600/60000 (43%)]\tLoss: 0.155229\n",
      "Train Epoch: 8 [32000/60000 (53%)]\tLoss: 0.056096\n",
      "Train Epoch: 8 [38400/60000 (64%)]\tLoss: 0.151203\n",
      "Train Epoch: 8 [44800/60000 (75%)]\tLoss: 0.251880\n",
      "Train Epoch: 8 [51200/60000 (85%)]\tLoss: 0.191895\n",
      "Train Epoch: 8 [57600/60000 (96%)]\tLoss: 0.106680\n",
      "\n",
      "Test set: Average loss: 0.0019, Accuracy: 9655/10000 (97%)\n",
      "\n",
      "Train Epoch: 9 [0/60000 (0%)]\tLoss: 0.121876\n",
      "Train Epoch: 9 [6400/60000 (11%)]\tLoss: 0.047684\n",
      "Train Epoch: 9 [12800/60000 (21%)]\tLoss: 0.129640\n",
      "Train Epoch: 9 [19200/60000 (32%)]\tLoss: 0.166960\n",
      "Train Epoch: 9 [25600/60000 (43%)]\tLoss: 0.084627\n",
      "Train Epoch: 9 [32000/60000 (53%)]\tLoss: 0.195087\n",
      "Train Epoch: 9 [38400/60000 (64%)]\tLoss: 0.030797\n",
      "Train Epoch: 9 [44800/60000 (75%)]\tLoss: 0.234131\n",
      "Train Epoch: 9 [51200/60000 (85%)]\tLoss: 0.025617\n",
      "Train Epoch: 9 [57600/60000 (96%)]\tLoss: 0.259825\n",
      "\n",
      "Test set: Average loss: 0.0017, Accuracy: 9670/10000 (97%)\n",
      "\n"
     ]
    }
   ],
   "source": [
    "for epoch in range(epochs):\n",
    "    for batch_idx,(data,target) in enumerate(train_loader):\n",
    "        data = data.view(-1,28*28)\n",
    "        data,target = data.to(device),target.to(device)\n",
    "        \n",
    "        logits = net(data)\n",
    "        loss = criteon(logits,target)\n",
    "        \n",
    "        optimizer.zero_grad()\n",
    "        loss.backward()\n",
    "        \n",
    "        optimizer.step()\n",
    "        \n",
    "        if batch_idx % 100 == 0:\n",
    "            print('Train Epoch: {} [{}/{} ({:.0f}%)]\\tLoss: {:.6f}'.format(\n",
    "                epoch, batch_idx * len(data), len(train_loader.dataset),\n",
    "                       100. * batch_idx / len(train_loader), loss.item()))\n",
    "            \n",
    "    test_loss = 0\n",
    "    correct = 0\n",
    "    for data, target in test_loader:\n",
    "        data = data.view(-1, 28 * 28)\n",
    "        data, target = data.to(device), target.cuda()\n",
    "        logits = net(data)\n",
    "        test_loss += criteon(logits, target).item()\n",
    "\n",
    "        pred = logits.data.max(1)[1]\n",
    "        correct += pred.eq(target.data).sum()\n",
    "\n",
    "    test_loss /= len(test_loader.dataset)\n",
    "    print('\\nTest set: Average loss: {:.4f}, Accuracy: {}/{} ({:.0f}%)\\n'.format(\n",
    "        test_loss, correct, len(test_loader.dataset),\n",
    "        100. * correct / len(test_loader.dataset)))"
   ]
  }
 ],
 "metadata": {
  "kernelspec": {
   "display_name": "Python 3",
   "language": "python",
   "name": "python3"
  },
  "language_info": {
   "codemirror_mode": {
    "name": "ipython",
    "version": 3
   },
   "file_extension": ".py",
   "mimetype": "text/x-python",
   "name": "python",
   "nbconvert_exporter": "python",
   "pygments_lexer": "ipython3",
   "version": "3.8.3"
  }
 },
 "nbformat": 4,
 "nbformat_minor": 4
}
